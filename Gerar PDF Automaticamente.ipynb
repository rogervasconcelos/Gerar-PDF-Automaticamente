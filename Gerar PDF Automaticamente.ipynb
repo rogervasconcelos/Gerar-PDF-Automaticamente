{
 "cells": [
  {
   "cell_type": "markdown",
   "id": "8cd9d31a",
   "metadata": {},
   "source": [
    "# Gerar orçamento"
   ]
  },
  {
   "cell_type": "code",
   "execution_count": 6,
   "id": "19839752",
   "metadata": {},
   "outputs": [
    {
     "name": "stdout",
     "output_type": "stream",
     "text": [
      "Produto 1: Deslocamento de Artista\n",
      "Produto 2: Deslocamento de Equipamento\n",
      "Produto 3: Hospedagem e Transporte\n",
      "Preço1: 700\n",
      "Preço2: 650\n",
      "Preço3: 250\n",
      "Quantidade1: 3\n",
      "Quantidade2: 1\n",
      "Quantidade3: 3\n"
     ]
    }
   ],
   "source": [
    "serviço1 = input(\"Produto 1: \")\n",
    "serviço2 = input(\"Produto 2: \")\n",
    "serviço3 = input(\"Produto 3: \")\n",
    "preço1 = input(\"Preço1: \")\n",
    "preço2 = input(\"Preço2: \")\n",
    "preço3 = input(\"Preço3: \")\n",
    "quantidade1 = input(\"Quantidade1: \")\n",
    "quantidade2 = input(\"Quantidade2: \")\n",
    "quantidade3 = input(\"Quantidade3: \")\n",
    "total1 = int(preço1) * int(quantidade1)\n",
    "total2 = int(preço2) * int(quantidade2)\n",
    "total3 = int(preço3) * int(quantidade3)"
   ]
  },
  {
   "cell_type": "code",
   "execution_count": 25,
   "id": "8b5f6a2d",
   "metadata": {},
   "outputs": [
    {
     "name": "stdout",
     "output_type": "stream",
     "text": [
      "digite e-mail de contato: vjmusic@ficticio.com\n",
      "digite telefone de contato: (51) 99999-9999\n",
      "digite ID do instagram: @__vjmusic__\n"
     ]
    }
   ],
   "source": [
    "email = input(\"digite e-mail de contato: \")\n",
    "telefone = input(\"digite telefone de contato: \")\n",
    "instagram = input(\"digite ID do instagram: \")"
   ]
  },
  {
   "cell_type": "code",
   "execution_count": 19,
   "id": "88406407",
   "metadata": {},
   "outputs": [
    {
     "data": {
      "text/plain": [
       "3500"
      ]
     },
     "execution_count": 19,
     "metadata": {},
     "output_type": "execute_result"
    }
   ],
   "source": [
    "total_show = int(total1) + int(total2) + int(total3)\n",
    "total_show"
   ]
  },
  {
   "cell_type": "code",
   "execution_count": 21,
   "id": "9e619ed4",
   "metadata": {},
   "outputs": [],
   "source": [
    "import fpdf"
   ]
  },
  {
   "cell_type": "code",
   "execution_count": 22,
   "id": "dea96e00",
   "metadata": {},
   "outputs": [],
   "source": [
    "# fpdf é a biblioteca. FPDF é uma classe dentro dessa biblioteca.\n",
    "from fpdf import FPDF"
   ]
  },
  {
   "cell_type": "code",
   "execution_count": 138,
   "id": "c12a5614",
   "metadata": {},
   "outputs": [
    {
     "name": "stdout",
     "output_type": "stream",
     "text": [
      "Gerado com sucesso\n"
     ]
    }
   ],
   "source": [
    "pdf = FPDF()\n",
    "\n",
    "pdf.add_page()\n",
    "pdf.set_font(\"Arial\")\n",
    "\n",
    "# O uso do x=0 e y=0 é usado para o alinhamento da imagem com o conteúdo impresso nela.\n",
    "# Dimenções para a imagem: 595X 842\n",
    "pdf.image(\"show2.png\", x=0, y=0)\n",
    "\n",
    "# Cada numero representa coordenada de alinhamento do texto na imagem. Primeiro e segundo numero é horizontal=x e vertical=y, respectivamente.\n",
    "pdf.text(37, 117.5 , email)\n",
    "pdf.text(41, 123.5, telefone)\n",
    "pdf.text(43, 129, instagram)\n",
    "pdf.text(44, 157, serviço1)\n",
    "pdf.text(44, 180, serviço2)\n",
    "pdf.text(44, 203, serviço3)\n",
    "# Existe a necessidade de por STR pois o conteúdo na vareável é numero. Esse comando apenas produz texto. Colocando STR passa o conteúdo para textp.\n",
    "pdf.text(128, 157, str(preço1))\n",
    "pdf.text(128, 180, str(preço2))\n",
    "pdf.text(128, 203, str(preço3))\n",
    "pdf.text(150, 157, str(quantidade1))\n",
    "pdf.text(150, 180, str(quantidade2))\n",
    "pdf.text(150, 203, str(quantidade3))\n",
    "pdf.text(172, 157, str(total1))\n",
    "pdf.text(172, 180, str(total2))\n",
    "pdf.text(172, 203, str(total3))\n",
    "pdf.text(172, 219, str(total_show))\n",
    "pdf.text(145, 219, \"VALOR:\")\n",
    "\n",
    "\n",
    "\n",
    "\n",
    "pdf.output(\"Orçamento Show.pdf\")\n",
    "print(\"Gerado com sucesso\")"
   ]
  }
 ],
 "metadata": {
  "kernelspec": {
   "display_name": "Python 3 (ipykernel)",
   "language": "python",
   "name": "python3"
  },
  "language_info": {
   "codemirror_mode": {
    "name": "ipython",
    "version": 3
   },
   "file_extension": ".py",
   "mimetype": "text/x-python",
   "name": "python",
   "nbconvert_exporter": "python",
   "pygments_lexer": "ipython3",
   "version": "3.9.13"
  }
 },
 "nbformat": 4,
 "nbformat_minor": 5
}
